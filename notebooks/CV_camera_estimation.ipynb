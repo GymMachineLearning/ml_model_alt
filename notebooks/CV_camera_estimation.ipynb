{
 "cells": [
  {
   "cell_type": "markdown",
   "id": "807fc19d-7bfa-4b99-ad02-533dd32a681c",
   "metadata": {},
   "source": [
    "# CV, estimating camera pose"
   ]
  },
  {
   "cell_type": "code",
   "execution_count": 4,
   "id": "f126b72c-460a-4452-8aba-730dcb15e9e1",
   "metadata": {},
   "outputs": [
    {
     "ename": "AttributeError",
     "evalue": "module 'sift' has no attribute 'process_image'",
     "output_type": "error",
     "traceback": [
      "\u001b[1;31m---------------------------------------------------------------------------\u001b[0m",
      "\u001b[1;31mAttributeError\u001b[0m                            Traceback (most recent call last)",
      "\u001b[1;32m<ipython-input-4-801715af3101>\u001b[0m in \u001b[0;36m<cell line: 0>\u001b[1;34m()\u001b[0m\n\u001b[0;32m      3\u001b[0m \u001b[1;32mimport\u001b[0m \u001b[0msift\u001b[0m\u001b[1;33m\u001b[0m\u001b[1;33m\u001b[0m\u001b[0m\n\u001b[0;32m      4\u001b[0m \u001b[1;31m# compute features\u001b[0m\u001b[1;33m\u001b[0m\u001b[1;33m\u001b[0m\u001b[0m\n\u001b[1;32m----> 5\u001b[1;33m \u001b[0msift\u001b[0m\u001b[1;33m.\u001b[0m\u001b[0mprocess_image\u001b[0m\u001b[1;33m(\u001b[0m\u001b[1;34m'book_frontal.JPG'\u001b[0m\u001b[1;33m,\u001b[0m\u001b[1;34m'im0.sift'\u001b[0m\u001b[1;33m)\u001b[0m\u001b[1;33m\u001b[0m\u001b[1;33m\u001b[0m\u001b[0m\n\u001b[0m\u001b[0;32m      6\u001b[0m \u001b[0ml0\u001b[0m\u001b[1;33m,\u001b[0m\u001b[0md0\u001b[0m \u001b[1;33m=\u001b[0m \u001b[0msift\u001b[0m\u001b[1;33m.\u001b[0m\u001b[0mread_features_from_file\u001b[0m\u001b[1;33m(\u001b[0m\u001b[1;34m'im0.sift'\u001b[0m\u001b[1;33m)\u001b[0m\u001b[1;33m\u001b[0m\u001b[1;33m\u001b[0m\u001b[0m\n\u001b[0;32m      7\u001b[0m \u001b[0msift\u001b[0m\u001b[1;33m.\u001b[0m\u001b[0mprocess_image\u001b[0m\u001b[1;33m(\u001b[0m\u001b[1;34m'book_perspective.JPG'\u001b[0m\u001b[1;33m,\u001b[0m\u001b[1;34m'im1.sift'\u001b[0m\u001b[1;33m)\u001b[0m\u001b[1;33m\u001b[0m\u001b[1;33m\u001b[0m\u001b[0m\n",
      "\u001b[1;31mAttributeError\u001b[0m: module 'sift' has no attribute 'process_image'"
     ]
    }
   ],
   "source": [
    "# import homography\n",
    "# import camera\n",
    "# import sift\n",
    "# # compute features\n",
    "# sift.process_image('book_frontal.JPG','im0.sift')\n",
    "# l0,d0 = sift.read_features_from_file('im0.sift')\n",
    "# sift.process_image('book_perspective.JPG','im1.sift')\n",
    "# l1,d1 = sift.read_features_from_file('im1.sift')\n",
    "# # match features and estimate homography\n",
    "# matches = sift.match_twosided(d0,d1)\n",
    "# ndx = matches.nonzero()[0]\n",
    "# fp = homography.make_homog(l0[ndx,:2].T)\n",
    "# ndx2 = [int(matches[i]) for i in ndx]\n",
    "# tp = homography.make_homog(l1[ndx2,:2].T)\n",
    "# model = homography.RansacModel()\n",
    "# H = homography.H_from_ransac(fp,tp,model)"
   ]
  },
  {
   "cell_type": "markdown",
   "id": "4e96df62-9baa-48fa-80fd-c1854cf0d5d8",
   "metadata": {},
   "source": [
    "# Camera Calibration"
   ]
  },
  {
   "cell_type": "code",
   "execution_count": null,
   "id": "d8855f9d-a785-47e3-9bab-3bcce78be5bd",
   "metadata": {},
   "outputs": [],
   "source": [
    "def my_calibration(sz):\n",
    "    row,col = sz\n",
    "    fx = 2555*col/2592\n",
    "    fy = 2586*row/1936\n",
    "    K = diag([fx,fy,1])\n",
    "    K[0,2] = 0.5*col\n",
    "    K[1,2] = 0.5*row\n",
    "    return K"
   ]
  },
  {
   "cell_type": "markdown",
   "id": "0802aea8-5ab7-49f5-8afe-f80fadc3847c",
   "metadata": {},
   "source": [
    "# Homography"
   ]
  },
  {
   "cell_type": "code",
   "execution_count": 23,
   "id": "d3dd09ed-6e8d-471e-8fb0-7942e71bc4dc",
   "metadata": {},
   "outputs": [
    {
     "name": "stdout",
     "output_type": "stream",
     "text": [
      "Homography matrix:\n",
      "[[ 2.58590403e-01  1.74583944e-01  1.77651165e+02]\n",
      " [-1.66762848e-02  5.76816443e-01  1.67363507e+01]\n",
      " [-7.86805964e-04  7.35261231e-04  1.00000000e+00]]\n"
     ]
    }
   ],
   "source": [
    "import cv2\n",
    "import numpy as np\n",
    "\n",
    "# Read images\n",
    "img1 = cv2.imread('book_frontal.JPG', cv2.IMREAD_GRAYSCALE)\n",
    "img2 = cv2.imread('book_perspective.JPG', cv2.IMREAD_GRAYSCALE)\n",
    "\n",
    "# Initialize SIFT detector\n",
    "sift = cv2.SIFT_create()\n",
    "\n",
    "# Compute features\n",
    "keypoints1, descriptors1 = sift.detectAndCompute(img1, None)\n",
    "keypoints2, descriptors2 = sift.detectAndCompute(img2, None)\n",
    "\n",
    "# Match features using BFMatcher\n",
    "bf = cv2.BFMatcher(cv2.NORM_L2, crossCheck=True)\n",
    "matches = bf.match(descriptors1, descriptors2)\n",
    "\n",
    "# Sort matches by distance\n",
    "matches = sorted(matches, key=lambda x: x.distance)\n",
    "\n",
    "# Extract location of good matches\n",
    "points1 = np.zeros((len(matches), 2), dtype=np.float32)\n",
    "points2 = np.zeros((len(matches), 2), dtype=np.float32)\n",
    "\n",
    "for i, match in enumerate(matches):\n",
    "    points1[i, :] = keypoints1[match.queryIdx].pt\n",
    "    points2[i, :] = keypoints2[match.trainIdx].pt\n",
    "\n",
    "# Compute homography using RANSAC\n",
    "H, mask = cv2.findHomography(points1, points2, cv2.RANSAC)\n",
    "\n",
    "print(\"Homography matrix:\")\n",
    "print(H)\n",
    "\n",
    "# If you want to visualize the matches\n",
    "img_matches = cv2.drawMatches(img1, keypoints1, img2, keypoints2, matches[:10], None, flags=cv2.DrawMatchesFlags_NOT_DRAW_SINGLE_POINTS)\n",
    "cv2.imshow('Matches', img_matches)\n",
    "cv2.waitKey(0)\n",
    "cv2.destroyAllWindows()\n"
   ]
  },
  {
   "cell_type": "code",
   "execution_count": 8,
   "id": "cb4a9f7a-64c6-48f9-8e39-5a228c2fc395",
   "metadata": {},
   "outputs": [
    {
     "ename": "NameError",
     "evalue": "name 'my_calibration' is not defined",
     "output_type": "error",
     "traceback": [
      "\u001b[1;31m---------------------------------------------------------------------------\u001b[0m",
      "\u001b[1;31mNameError\u001b[0m                                 Traceback (most recent call last)",
      "\u001b[1;32m<ipython-input-8-f78520d49fdb>\u001b[0m in \u001b[0;36m<cell line: 0>\u001b[1;34m()\u001b[0m\n\u001b[0;32m     27\u001b[0m \u001b[1;33m\u001b[0m\u001b[0m\n\u001b[0;32m     28\u001b[0m \u001b[1;31m# camera calibration\u001b[0m\u001b[1;33m\u001b[0m\u001b[1;33m\u001b[0m\u001b[0m\n\u001b[1;32m---> 29\u001b[1;33m \u001b[0mK\u001b[0m \u001b[1;33m=\u001b[0m \u001b[0mmy_calibration\u001b[0m\u001b[1;33m(\u001b[0m\u001b[1;33m(\u001b[0m\u001b[1;36m747\u001b[0m\u001b[1;33m,\u001b[0m\u001b[1;36m1000\u001b[0m\u001b[1;33m)\u001b[0m\u001b[1;33m)\u001b[0m\u001b[1;33m\u001b[0m\u001b[1;33m\u001b[0m\u001b[0m\n\u001b[0m\u001b[0;32m     30\u001b[0m \u001b[1;31m# 3D points at plane z=0 with sides of length 0.2\u001b[0m\u001b[1;33m\u001b[0m\u001b[1;33m\u001b[0m\u001b[0m\n\u001b[0;32m     31\u001b[0m \u001b[0mbox\u001b[0m \u001b[1;33m=\u001b[0m \u001b[0mcube_points\u001b[0m\u001b[1;33m(\u001b[0m\u001b[1;33m[\u001b[0m\u001b[1;36m0\u001b[0m\u001b[1;33m,\u001b[0m\u001b[1;36m0\u001b[0m\u001b[1;33m,\u001b[0m\u001b[1;36m0.1\u001b[0m\u001b[1;33m]\u001b[0m\u001b[1;33m,\u001b[0m\u001b[1;36m0.1\u001b[0m\u001b[1;33m)\u001b[0m\u001b[1;33m\u001b[0m\u001b[1;33m\u001b[0m\u001b[0m\n",
      "\u001b[1;31mNameError\u001b[0m: name 'my_calibration' is not defined"
     ]
    }
   ],
   "source": [
    "def cube_points(c,wid):\n",
    "    \"\"\" Creates a list of points for plotting\n",
    "    a cube with plot. (the first 5 points are\n",
    "    the bottom square, some sides repeated). \"\"\"\n",
    "    p = []\n",
    "    #bottom\n",
    "    p.append([c[0]-wid,c[1]-wid,c[2]-wid])\n",
    "    p.append([c[0]-wid,c[1]+wid,c[2]-wid])\n",
    "    p.append([c[0]+wid,c[1]+wid,c[2]-wid])\n",
    "    p.append([c[0]+wid,c[1]-wid,c[2]-wid])\n",
    "    p.append([c[0]-wid,c[1]-wid,c[2]-wid]) #same as first to close plot\n",
    "    #top\n",
    "    p.append([c[0]-wid,c[1]-wid,c[2]+wid])\n",
    "    p.append([c[0]-wid,c[1]+wid,c[2]+wid])\n",
    "    p.append([c[0]+wid,c[1]+wid,c[2]+wid])\n",
    "    p.append([c[0]+wid,c[1]-wid,c[2]+wid])\n",
    "    p.append([c[0]-wid,c[1]-wid,c[2]+wid]) #same as first to close plot\n",
    "    #vertical sides\n",
    "    p.append([c[0]-wid,c[1]-wid,c[2]+wid])\n",
    "    p.append([c[0]-wid,c[1]+wid,c[2]+wid])\n",
    "    p.append([c[0]-wid,c[1]+wid,c[2]-wid])\n",
    "    p.append([c[0]+wid,c[1]+wid,c[2]-wid])\n",
    "    p.append([c[0]+wid,c[1]+wid,c[2]+wid])\n",
    "    p.append([c[0]+wid,c[1]-wid,c[2]+wid])\n",
    "    p.append([c[0]+wid,c[1]-wid,c[2]-wid])\n",
    "    return array(p).T\n",
    "\n",
    "# camera calibration\n",
    "K = my_calibration((747,1000))\n",
    "# 3D points at plane z=0 with sides of length 0.2\n",
    "box = cube_points([0,0,0.1],0.1)\n",
    "# project bottom square in first image\n",
    "\n",
    "cam1 = camera.Camera( hstack((K,dot(K,array([[0],[0],[-1]])) )) )\n",
    "# first points are the bottom square\n",
    "box_cam1 = cam1.project(homography.make_homog(box[:,:5]))\n",
    "# use H to transfer points to the second image\n",
    "box_trans = homography.normalize(dot(H,box_cam1))\n",
    "# compute second camera matrix from cam1 and H\n",
    "cam2 = camera.Camera(dot(H,cam1.P))\n",
    "A = dot(linalg.inv(K),cam2.P[:,:3])\n",
    "A = array([A[:,0],A[:,1],cross(A[:,0],A[:,1])]).T\n",
    "cam2.P[:,:3] = dot(K,A)\n",
    "# project with the second camera\n",
    "box_cam2 = cam2.project(homography.make_homog(box))\n",
    "# test: projecting point on z=0 should give the same\n",
    "point = array([1,1,0,1]).T\n",
    "print(homography.normalize(dot(dot(H,cam1.P),point)))\n",
    "print(cam2.project(point))"
   ]
  },
  {
   "cell_type": "code",
   "execution_count": 22,
   "id": "a5438962-2084-42e9-b98c-b6ed80460a33",
   "metadata": {},
   "outputs": [],
   "source": [
    "from PIL import Image \n",
    "import numpy as np \n",
    "\n",
    "def shift_image(img, depth_img, shift_amount=10): \n",
    "\t# Ensure base image has alpha \n",
    "\timg = img.convert(\"RGBA\") \n",
    "\tdata = np.array(img) \n",
    "\n",
    "\t# Ensure depth image is grayscale (for single value) \n",
    "\tdepth_img = depth_img.convert(\"L\") \n",
    "\tdepth_data = np.array(depth_img) \n",
    "\tdeltas = ((depth_data / 255.0) * float(shift_amount)).astype(int) \n",
    "\n",
    "\t# This creates the transparent resulting image. \n",
    "\t# For now, we're dealing with pixel data. \n",
    "\tshifted_data = np.zeros_like(data) \n",
    "\n",
    "\theight, width, _ = data.shape \n",
    "\n",
    "\tfor y, row in enumerate(deltas): \n",
    "\t\tfor x, dx in enumerate(row): \n",
    "\t\t\tif x + dx < width and x + dx >= 0: \n",
    "\t\t\t\tshifted_data[y, x + dx] = data[y, x] \n",
    "\n",
    "\t# Convert the pixel data to an image. \n",
    "\tshifted_image = Image.fromarray(shifted_data.astype(np.uint8)) \n",
    "\n",
    "\treturn shifted_image \n",
    "\n",
    "img = Image.open(\"cube1.jpeg\") \n",
    "depth_img = Image.open(\"cube2.jpeg\") \n",
    "shifted_img = shift_image(img, depth_img, shift_amount=50) \n",
    "shifted_img.show()\n"
   ]
  },
  {
   "cell_type": "markdown",
   "id": "29bdb0fd-ae3d-4615-ae6d-3d64447bfd15",
   "metadata": {},
   "source": [
    "# Graph cut segmentation"
   ]
  },
  {
   "cell_type": "code",
   "execution_count": 36,
   "id": "227995f4-b90e-484c-953f-99dd4d94b7c9",
   "metadata": {},
   "outputs": [
    {
     "name": "stdout",
     "output_type": "stream",
     "text": [
      "(497, 888, 3)\n"
     ]
    },
    {
     "data": {
      "image/png": "[encoded data removed]",
      "text/plain": [
       "<Figure size 432x288 with 2 Axes>"
      ]
     },
     "metadata": {
      "needs_background": "light"
     },
     "output_type": "display_data"
    },
    {
     "data": {
      "text/plain": [
       "(<matplotlib.image.AxesImage at 0x18e4b9e4d90>,\n",
       " <matplotlib.colorbar.Colorbar at 0x18e4bdd8dd0>,\n",
       " None)"
      ]
     },
     "execution_count": 36,
     "metadata": {},
     "output_type": "execute_result"
    }
   ],
   "source": [
    "import numpy as np\n",
    "import cv2 as cv\n",
    "from matplotlib import pyplot as plt\n",
    "img = cv.imread('images/squat4.jpg')\n",
    "assert img is not None, \"file could not be read, check with os.path.exists()\"\n",
    "mask = np.zeros(img.shape[:2],np.uint8)\n",
    "\n",
    "bgdModel = np.zeros((1,65),np.float64)\n",
    "fgdModel = np.zeros((1,65),np.float64)\n",
    "\n",
    "print(img.shape)\n",
    "rect = (300,1,490,880)\n",
    "cv.grabCut(img,mask,rect,bgdModel,fgdModel,5,cv.GC_INIT_WITH_RECT)\n",
    "mask2 = np.where((mask==2)|(mask==0),0,1).astype('uint8')\n",
    "img = img*mask2[:,:,np.newaxis]\n",
    "plt.imshow(img),plt.colorbar(),plt.show()"
   ]
  },
  {
   "cell_type": "code",
   "execution_count": null,
   "id": "09eab238-a9a0-4116-9508-e9daab37a86a",
   "metadata": {},
   "outputs": [],
   "source": []
  },
  {
   "cell_type": "code",
   "execution_count": null,
   "id": "1569c3fb-5ef5-41f2-8d91-f3e5796d8817",
   "metadata": {},
   "outputs": [],
   "source": []
  }
 ],
 "metadata": {
  "kernelspec": {
   "display_name": "Python 3",
   "language": "python",
   "name": "python3"
  },
  "language_info": {
   "codemirror_mode": {
    "name": "ipython",
    "version": 3
   },
   "file_extension": ".py",
   "mimetype": "text/x-python",
   "name": "python",
   "nbconvert_exporter": "python",
   "pygments_lexer": "ipython3",
   "version": "3.11.4"
  },
  "widgets": {
   "application/vnd.jupyter.widget-state+json": {
    "state": {},
    "version_major": 2,
    "version_minor": 0
   }
  }
 },
 "nbformat": 4,
 "nbformat_minor": 5
}
