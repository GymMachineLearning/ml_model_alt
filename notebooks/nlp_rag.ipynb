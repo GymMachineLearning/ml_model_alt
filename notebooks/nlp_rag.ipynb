{
 "cells": [
  {
   "cell_type": "code",
   "execution_count": 1,
   "id": "4f64d64c-393d-4f96-ac57-c29f0e6de6d9",
   "metadata": {},
   "outputs": [
    {
     "name": "stderr",
     "output_type": "stream",
     "text": [
      "C:\\Users\\Damian\\AppData\\Local\\Packages\\PythonSoftwareFoundation.Python.3.11_qbz5n2kfra8p0\\LocalCache\\local-packages\\Python311\\site-packages\\tqdm\\auto.py:21: TqdmWarning: IProgress not found. Please update jupyter and ipywidgets. See https://ipywidgets.readthedocs.io/en/stable/user_install.html\n",
      "  from .autonotebook import tqdm as notebook_tqdm\n"
     ]
    },
    {
     "ename": "ModuleNotFoundError",
     "evalue": "No module named 'faiss'",
     "output_type": "error",
     "traceback": [
      "\u001b[1;31m---------------------------------------------------------------------------\u001b[0m",
      "\u001b[1;31mModuleNotFoundError\u001b[0m                       Traceback (most recent call last)",
      "\u001b[1;32m<ipython-input-1-ca70eac08995>\u001b[0m in \u001b[0;36m<cell line: 0>\u001b[1;34m()\u001b[0m\n\u001b[0;32m      1\u001b[0m \u001b[1;32mfrom\u001b[0m \u001b[0mtransformers\u001b[0m \u001b[1;32mimport\u001b[0m \u001b[0mAutoTokenizer\u001b[0m\u001b[1;33m,\u001b[0m \u001b[0mAutoModelForSeq2SeqLM\u001b[0m\u001b[1;33m,\u001b[0m \u001b[0mpipeline\u001b[0m\u001b[1;33m\u001b[0m\u001b[1;33m\u001b[0m\u001b[0m\n\u001b[1;32m----> 2\u001b[1;33m \u001b[1;32mimport\u001b[0m \u001b[0mfaiss\u001b[0m\u001b[1;33m\u001b[0m\u001b[1;33m\u001b[0m\u001b[0m\n\u001b[0m\u001b[0;32m      3\u001b[0m \u001b[1;32mimport\u001b[0m \u001b[0mnumpy\u001b[0m \u001b[1;32mas\u001b[0m \u001b[0mnp\u001b[0m\u001b[1;33m\u001b[0m\u001b[1;33m\u001b[0m\u001b[0m\n\u001b[0;32m      4\u001b[0m \u001b[1;33m\u001b[0m\u001b[0m\n\u001b[0;32m      5\u001b[0m \u001b[1;31m# Przykładowe dane\u001b[0m\u001b[1;33m\u001b[0m\u001b[1;33m\u001b[0m\u001b[0m\n",
      "\u001b[1;31mModuleNotFoundError\u001b[0m: No module named 'faiss'"
     ]
    }
   ],
   "source": [
    "from transformers import AutoTokenizer, AutoModelForSeq2SeqLM, pipeline\n",
    "import faiss\n",
    "import numpy as np\n",
    "\n",
    "# Przykładowe dane\n",
    "documents = [\n",
    "    \"Aby poprawnie wykonać przysiad, upewnij się, że twoje stopy są rozstawione na szerokość barków.\",\n",
    "    \"Podczas wyciskania sztangi na ławce poziomej, upewnij się, że twoje łopatki są ściągnięte.\",\n",
    "    # Dodaj więcej dokumentów dotyczących ćwiczeń...\n",
    "]\n",
    "\n",
    "# Tokenizacja i wektoryzacja\n",
    "tokenizer = AutoTokenizer.from_pretrained(\"sentence-transformers/all-MiniLM-L6-v2\")\n",
    "embeddings = []\n",
    "for doc in documents:\n",
    "    inputs = tokenizer(doc, return_tensors=\"pt\", truncation=True, padding=True)\n",
    "    embeddings.append(inputs['input_ids'].mean(dim=1).detach().numpy())\n",
    "\n",
    "# Utworzenie indexu FAISS\n",
    "index = faiss.IndexFlatL2(embeddings[0].shape[1])\n",
    "index.add(np.vstack(embeddings))\n",
    "\n",
    "# Model generacyjny\n",
    "generator = pipeline(\"text2text-generation\", model=\"facebook/bart-large-cnn\")\n",
    "\n",
    "def retrieve(query):\n",
    "    query_embedding = tokenizer(query, return_tensors=\"pt\", truncation=True, padding=True)['input_ids'].mean(dim=1).detach().numpy()\n",
    "    D, I = index.search(query_embedding, k=1)\n",
    "    return documents[I[0][0]]\n",
    "\n",
    "def generate_answer(query):\n",
    "    retrieved_doc = retrieve(query)\n",
    "    input_text = f\"Query: {query}\\nDocument: {retrieved_doc}\\nAnswer:\"\n",
    "    generated = generator(input_text, max_length=50, clean_up_tokenization_spaces=True)\n",
    "    return generated[0]['generated_text']\n",
    "\n",
    "# Przykładowe pytanie\n",
    "question = \"Jak poprawnie wykonywać przysiady?\"\n",
    "answer = generate_answer(question)\n",
    "print(answer)\n"
   ]
  },
  {
   "cell_type": "code",
   "execution_count": null,
   "id": "7b325dbe-c6a1-4b7c-a60f-cbd5d096f56f",
   "metadata": {},
   "outputs": [],
   "source": []
  }
 ],
 "metadata": {
  "kernelspec": {
   "display_name": "Python 3",
   "language": "python",
   "name": "python3"
  },
  "language_info": {
   "codemirror_mode": {
    "name": "ipython",
    "version": 3
   },
   "file_extension": ".py",
   "mimetype": "text/x-python",
   "name": "python",
   "nbconvert_exporter": "python",
   "pygments_lexer": "ipython3",
   "version": "3.11.4"
  },
  "widgets": {
   "application/vnd.jupyter.widget-state+json": {
    "state": {},
    "version_major": 2,
    "version_minor": 0
   }
  }
 },
 "nbformat": 4,
 "nbformat_minor": 5
}
