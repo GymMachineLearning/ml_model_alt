{
 "cells": [
  {
   "cell_type": "markdown",
   "metadata": {},
   "source": [
    "### All imports"
   ]
  },
  {
   "cell_type": "code",
   "execution_count": 2,
   "metadata": {},
   "outputs": [],
   "source": [
    "import cv2\n",
    "from youtube_transcript_api import YouTubeTranscriptApi\n",
    "from pytube import YouTube\n",
    "import collections\n",
    "import cv2\n",
    "\n",
    "\n",
    "from mediapipe import solutions\n",
    "from mediapipe.framework.formats import landmark_pb2\n",
    "import numpy as np\n",
    "\n",
    "import mediapipe as mp\n",
    "from mediapipe.tasks import python\n",
    "from mediapipe.tasks.python import vision\n",
    "\n",
    "import nltk  \n"
   ]
  },
  {
   "cell_type": "markdown",
   "metadata": {},
   "source": [
    "### engine for pose estimation"
   ]
  },
  {
   "cell_type": "code",
   "execution_count": 3,
   "metadata": {},
   "outputs": [],
   "source": [
    "base_options = python.BaseOptions(model_asset_path='../models/pose_landmarker.task')\n",
    "options = vision.PoseLandmarkerOptions(\n",
    "    base_options=base_options,\n",
    "    output_segmentation_masks=True)\n",
    "\n",
    "detector = vision.PoseLandmarker.create_from_options(options)"
   ]
  },
  {
   "cell_type": "code",
   "execution_count": 4,
   "metadata": {},
   "outputs": [],
   "source": [
    "def draw_landmarks_on_image(rgb_image, detection_result):\n",
    "  pose_landmarks_list = detection_result.pose_landmarks\n",
    "  annotated_image = np.copy(rgb_image)\n",
    "\n",
    "  for idx in range(len(pose_landmarks_list)):\n",
    "    pose_landmarks = pose_landmarks_list[idx]\n",
    "\n",
    "\n",
    "    pose_landmarks_proto = landmark_pb2.NormalizedLandmarkList()\n",
    "    pose_landmarks_proto.landmark.extend([\n",
    "      landmark_pb2.NormalizedLandmark(x=landmark.x, y=landmark.y, z=landmark.z) for landmark in pose_landmarks\n",
    "    ])\n",
    "    solutions.drawing_utils.draw_landmarks(\n",
    "      annotated_image,\n",
    "      pose_landmarks_proto,\n",
    "      solutions.pose.POSE_CONNECTIONS,\n",
    "      solutions.drawing_styles.get_default_pose_landmarks_style())\n",
    "  return annotated_image\n"
   ]
  },
  {
   "cell_type": "code",
   "execution_count": 5,
   "metadata": {},
   "outputs": [
    {
     "name": "stdout",
     "output_type": "stream",
     "text": [
      "129\n"
     ]
    }
   ],
   "source": [
    "#xwyPjhRoeNc\n",
    "#nhoikoUEI8U\n",
    "video_id = \"nhoikoUEI8U\"\n",
    "subtitles = YouTubeTranscriptApi.get_transcript(video_id)\n",
    "print(len(subtitles))\n",
    "\n",
    "yt = YouTube(f\"https://www.youtube.com/watch?v={video_id}\")\n",
    "stream = yt.streams.filter(progressive=True, file_extension='mp4').order_by('resolution').desc().first()\n",
    "\n",
    "destination_path = \"../videos\" \n",
    "\n",
    "video_file = stream.download(output_path=destination_path)\n",
    "\n",
    "\n",
    "def cv2_to_mediapipe_image(cv2_image):\n",
    "    rgb_image = cv2.cvtColor(cv2_image, cv2.COLOR_BGR2RGB)\n",
    "    image = mp.solutions.mediapipe.python.solution_base.Image(\n",
    "        width=rgb_image.shape[1],\n",
    "        height=rgb_image.shape[0],\n",
    "        rgb_data=np.frombuffer(rgb_image.tobytes(), dtype=np.uint8)\n",
    "    )\n",
    "\n",
    "    return image"
   ]
  },
  {
   "cell_type": "markdown",
   "metadata": {},
   "source": [
    "### divide text into sentences and add punctuation with ml model"
   ]
  },
  {
   "cell_type": "code",
   "execution_count": 6,
   "metadata": {},
   "outputs": [
    {
     "name": "stdout",
     "output_type": "stream",
     "text": [
      "4705\n",
      "we will approach the squat in two phasesfirst unloaded to solve problemsassociated with the bottom position andthen loaded to learn how to apply thebottom position to the hip drive usedfor heavier weights since the majorityof the problems with the squat happenedat the bottom this method expedites theprocess quite effectively we will use afairly neutral foot placement with theheels about shoulder width apart and thetoes pointed out at about 30 degreesmany people will assume a stance withtoes pointed too forward so you may needto point them out more than you want tonext you're going to assume the positionyou will be in at the bottom of a squatwithout the barsquat down all the way to a position inwhich the apex of the hip crease dropsjust below the top of the patella putyour elbows against your knees with thepalms of your hands together and shoveyour knees out notice your feet are flaton the floor your knees are shoved outto where they are in a parallel linewith your feet and just a little infront of your toes your back should beas flat as you can get it also noticethat your back is inclined at about a 45degree angle not at all vertical andyour eyes are looking down at the floora few feet in front of you after you'veestablished the bottom position come upout of the bottom by driving your buttstraight up in the air up not forwardnot back this movement keeps your weightsolidly over the whole foot instead ofletting it shift to the toes think abouta chain hook to your hips pulling youstraight up out of the bottom set therack height so that the bar is at aboutthe level of your mid sternum take aneven grip on the bar measured from themarkings placed on the bar for thispurpose a standard power bar has 16 to17 inches between the ends of the insideneural and 32 inches between the fingermarks grip width for the squat will varywith shoulder width and flexibility butin general the hands will be betweenthese two markings with the narrowestgrip you can manage a narrower gripallows a flexible person to bettersupport the bar with the posteriormuscles of the shoulders and a widergrip allows an inflexible person to getmore comfortable under the bar thethumbs should be placed on top of thebar so that the wrists can be held in astraight line with the forearms theelbows should be lifted up to trap thebar between the hands and the backelbows should be up but not high withyour grip in place and your hands andthumbs on top of the bar dip your headunder the bar and come up into positionwith the bar on your back just below thespine of the scapula the bone you feelat the top of the shoulder blades andthen secure it in place by lifting yourelbows and chest at the same time itshould feel as though the bar is restingon a shelf under the traps and on top ofthe posterior deltoids take the bar outof the rack in the same position inwhich it is to be squatted with thetorso and shoulders tight the chest andelbows up the head position down andboth feet under the bar step back justenough to clear the rack and assume thesame stance you used earlier again heelsshould be about shoulder width apartwith toes pointed out about 30 degreesat this point you are ready to squatwith the empty bar everything you'reabout to do is the same as you didunweighted only two things are differentone you don't have your elbows availableto help push your knees out so you needto do this with your brain and two don'tstop at the bottom just go down andimmediately come back up driving yourbutt straight up not forward not backout of the bottom now look down at aspot on the floor about four to fivefeet in front of you take a big breathand hold it and squat you should be ingood balance at the bottom of the squatwith your weight balanced evenly overyour feetneither on your heels nor forward onyour toesbalance problems usually indicate a backangle that is too verticalremember that the back angle will not bevertical at allsit back lean forward shove your kneesout point your nipples at the floorallow your hips to perform the squat notyour legs do not accept anything lessthan full depth ever if you are high itis usually because your knees are notout most people who have problems withthe squat do not shove their knees outenough do a set of five and rack the barwalk forward until the bar touches thevertical parts of the rack find theuprights not the hooks you can't missthe uprights and if you touch themyou'll be over the hooks the generalplan is to do a couple more sets of 5reps with the empty bar to nail down themovement pattern and then add weight doanother set of 5 and keep increasing ineven increments until the next increasewould compromise your form and that isthe first squat workout[Music]\n"
     ]
    },
    {
     "name": "stderr",
     "output_type": "stream",
     "text": [
      "C:\\Users\\Damian\\AppData\\Local\\Packages\\PythonSoftwareFoundation.Python.3.11_qbz5n2kfra8p0\\LocalCache\\local-packages\\Python311\\site-packages\\tqdm\\auto.py:21: TqdmWarning: IProgress not found. Please update jupyter and ipywidgets. See https://ipywidgets.readthedocs.io/en/stable/user_install.html\n",
      "  from .autonotebook import tqdm as notebook_tqdm\n"
     ]
    },
    {
     "name": "stdout",
     "output_type": "stream",
     "text": [
      "WARNING:tensorflow:From C:\\Users\\Damian\\AppData\\Local\\Packages\\PythonSoftwareFoundation.Python.3.11_qbz5n2kfra8p0\\LocalCache\\local-packages\\Python311\\site-packages\\tf_keras\\src\\losses.py:2976: The name tf.losses.sparse_softmax_cross_entropy is deprecated. Please use tf.compat.v1.losses.sparse_softmax_cross_entropy instead.\n",
      "\n"
     ]
    },
    {
     "name": "stderr",
     "output_type": "stream",
     "text": [
      "C:\\Users\\Damian\\AppData\\Local\\Packages\\PythonSoftwareFoundation.Python.3.11_qbz5n2kfra8p0\\LocalCache\\local-packages\\Python311\\site-packages\\transformers\\pipelines\\token_classification.py:168: UserWarning: `grouped_entities` is deprecated and will be removed in version v5.0.0, defaulted to `aggregation_strategy=\"AggregationStrategy.NONE\"` instead.\n",
      "  warnings.warn(\n"
     ]
    },
    {
     "name": "stdout",
     "output_type": "stream",
     "text": [
      "4790\n"
     ]
    }
   ],
   "source": [
    "\n",
    "text =''\n",
    "for obj in subtitles:\n",
    "    text+=obj['text']\n",
    "\n",
    "print(len(text))\n",
    "print(text)\n",
    "\n",
    "\n",
    "from deepmultilingualpunctuation import PunctuationModel\n",
    "model = PunctuationModel()\n",
    "\n",
    "result = model.restore_punctuation(text)\n",
    "print(len(result))\n",
    "\n"
   ]
  },
  {
   "cell_type": "markdown",
   "metadata": {},
   "source": [
    "### removing artificial connections in words (auto generating subtitles from yt isn't ideal)\n",
    "### also pos-tags are added here"
   ]
  },
  {
   "cell_type": "code",
   "execution_count": 7,
   "metadata": {},
   "outputs": [],
   "source": [
    "sents = nltk.sent_tokenize(result)\n",
    "\n",
    "import wordsegment\n",
    "from wordsegment import load, segment\n",
    "load()\n",
    "from nltk.tokenize import word_tokenize\n",
    "\n",
    "# segment powoduje również tokenizacje zdania dlatego ten etap(tokenizacji) zostanie pominięty.\n",
    "sents = [(segment(sent)) for sent in sents]\n",
    "#porter = nltk.PorterStemmer()\n",
    "#sents = [[porter.stem(t) for t in sent] for sent in sents]\n",
    "sents = [nltk.pos_tag(sent) for sent in sents]\n",
    "grammar = r\"\"\"\n",
    "  NP: {<DT|PP\\$>?<JJ>*<NN>} \n",
    "      {<NNP>+}               \n",
    "\"\"\"\n",
    "# grammar = r\"\"\"\n",
    "#   NP: {<DT>?<JJ>*<NN>}\n",
    "#   VP: {<VB.*><NP|PP>*}\n",
    "#   PP: {<IN><NP>}\n",
    "#   ADJP: {<JJ>}\n",
    "#   ADVP: {<RB.*>}\n",
    "# \"\"\"\n",
    "cp = nltk.RegexpParser(grammar) \n",
    "\t\n",
    "# class ConsecutiveNPChunkTagger(nltk.TaggerI): \n",
    "\n",
    "#     def __init__(self, train_sents):\n",
    "#         train_set = []\n",
    "#         for tagged_sent in train_sents:\n",
    "#             untagged_sent = nltk.tag.untag(tagged_sent)\n",
    "#             history = []\n",
    "#             for i, (word, tag) in enumerate(tagged_sent):\n",
    "#                 featureset = npchunk_features(untagged_sent, i, history) \n",
    "#                 train_set.append( (featureset, tag) )\n",
    "#                 history.append(tag)\n",
    "#         self.classifier = nltk.MaxentClassifier.train( \n",
    "#             train_set, algorithm='megam', trace=0)\n",
    "\n",
    "#     def tag(self, sentence):\n",
    "#         history = []\n",
    "#         for i, word in enumerate(sentence):\n",
    "#             featureset = npchunk_features(sentence, i, history)\n",
    "#             tag = self.classifier.classify(featureset)\n",
    "#             history.append(tag)\n",
    "#         return zip(sentence, history)\n",
    "\n",
    "# class ConsecutiveNPChunker(nltk.ChunkParserI):\n",
    "#     def __init__(self, train_sents):\n",
    "#         tagged_sents = [[((w,t),c) for (w,t,c) in\n",
    "#                          nltk.chunk.tree2conlltags(sent)]\n",
    "#                         for sent in train_sents]\n",
    "#         self.tagger = ConsecutiveNPChunkTagger(tagged_sents)\n",
    "\n",
    "#     def parse(self, sentence):\n",
    "#         tagged_sents = self.tagger.tag(sentence)\n",
    "#         conlltags = [(w,t,c) for ((w,t),c) in tagged_sents]\n",
    "#         return nltk.chunk.conlltags2tree(conlltags)\n",
    "    \n",
    "# def npchunk_features(sentence, i, history):\n",
    "#      word, pos = sentence[i]\n",
    "#      return {\"pos\": pos}\n",
    "# chunker = ConsecutiveNPChunker(train_sents)\n",
    "# print(chunker.evaluate(test_sents))\n",
    "\n",
    "\n",
    "# sents = [cp.parse(sent) for sent in sents]\n",
    "\n",
    "\n",
    "\n"
   ]
  },
  {
   "cell_type": "code",
   "execution_count": 8,
   "metadata": {},
   "outputs": [
    {
     "name": "stdout",
     "output_type": "stream",
     "text": [
      "[('measured', 'VBN'), ('from', 'IN'), ('the', 'DT'), ('markings', 'NNS'), ('placed', 'VBN'), ('on', 'IN'), ('the', 'DT'), ('bar', 'NN'), ('for', 'IN'), ('this', 'DT'), ('purpose', 'NN'), ('a', 'DT'), ('standard', 'JJ'), ('powerbar', 'NN'), ('has', 'VBZ'), ('16to17', 'CD'), ('inches', 'NNS'), ('between', 'IN'), ('the', 'DT'), ('ends', 'NNS'), ('of', 'IN'), ('the', 'DT'), ('inside', 'JJ'), ('neural', 'JJ'), ('and', 'CC'), ('32', 'CD'), ('inches', 'NNS'), ('between', 'IN'), ('the', 'DT'), ('finger', 'NN'), ('marks', 'NNS')]\n",
      "(S\n",
      "  again/RB\n",
      "  heels/NNS\n",
      "  should/MD\n",
      "  be/VB\n",
      "  about/IN\n",
      "  shoulder/NN\n",
      "  width/NNS\n",
      "  apart/RB\n",
      "  with/IN\n",
      "  toes/NNS\n",
      "  pointed/VBN\n",
      "  out/RP\n",
      "  about/IN\n",
      "  30/CD\n",
      "  degrees/NNS\n",
      "  at/IN\n",
      "  this/DT\n",
      "  point/NN\n",
      "  you/PRP\n",
      "  are/VBP\n",
      "  ready/JJ\n",
      "  to/TO\n",
      "  squat/VB\n",
      "  with/IN\n",
      "  the/DT\n",
      "  empty/JJ\n",
      "  bar/NN)\n"
     ]
    }
   ],
   "source": [
    "# nltk.download('maxent_ne_chunker')\n",
    "# nltk.download('treebank')\n",
    "# print(sents[30])\n",
    "sent = nltk.corpus.treebank.tagged_sents()[22]\n",
    "#print(sent)\n",
    "print(sents[15])\n",
    "#print(nltk.ne_chunk(sent))\n",
    "print(nltk.ne_chunk(sents[25]))\n",
    "\n",
    "# sentence = [(\"the\", \"DT\"), (\"little\", \"JJ\"), (\"yellow\", \"JJ\"),\n",
    "# (\"dog\", \"NN\"), (\"barked\", \"VBD\"), (\"at\", \"IN\"),  (\"the\", \"DT\"), (\"cat\", \"NN\")]\n",
    "\n",
    "# grammar = \"NP: {<DT>?<JJ>*<NN>}\" \n",
    "\n",
    "# cp = nltk.RegexpParser(grammar) \n",
    "# result = cp.parse(sentence) \n",
    "# print(result) \n",
    "grammar = r\"NP: {<[CDJNP].*>+}\"\n",
    "cp = nltk.RegexpParser(grammar)\n",
    "# print(cp.evaluate(sents))\n",
    "# result.draw() "
   ]
  },
  {
   "cell_type": "markdown",
   "metadata": {},
   "source": [
    "### Finding sentences with technique rules(unfinished) (regexp: noun(body part) and verb)"
   ]
  },
  {
   "cell_type": "code",
   "execution_count": 9,
   "metadata": {},
   "outputs": [
    {
     "name": "stderr",
     "output_type": "stream",
     "text": [
      "[nltk_data] Downloading package wordnet to\n",
      "[nltk_data]     C:\\Users\\Damian\\AppData\\Roaming\\nltk_data...\n",
      "[nltk_data]   Package wordnet is already up-to-date!\n"
     ]
    },
    {
     "name": "stdout",
     "output_type": "stream",
     "text": [
      "we will use a fairly neutral foot placement with the heels about shoulder width apart and the toes pointed out at about 30 degrees many people will assume a stance with toes pointed too forward so you may need to point them out more than you want\n",
      "your back should be as flat as you can get it\n",
      "also notice that your back is inclined at about a45 degree angle not at all vertical and your eyes are looking down at the floor a few feet in front of you\n",
      "this movement keeps your weight solidly over the whole foot instead of letting it shift to the toes\n",
      "grip width for the squat will vary with shoulder width and flexibility but in general the hands will be between these two markings\n",
      "the elbows should be lifted up to trap the bar between the hands and the back elbows should be up but not high\n",
      "with your grip in place and your hands and thumbs on top of the bar dip your head under the bar and come up into position with the bar on your back just below the spine of the scapula the bone you feel at the top of the shoulder blades and then secure it in place by lifting your elbows and chest at the same time\n",
      "take the bar out of the rack in the same position in which it is to be squatted with the torso and shoulders tight the chest and elbows up the head position down and both feet under the bar\n",
      "step back just enough to clear the rack and assume the same stance you used earlier\n",
      "again heels should be about shoulder width apart with toes pointed out about 30 degrees at this point you are ready to squat with the empty bar\n",
      "and two dont stop at the bottom just go down and immediately come back up driving your butt straight up not forward not back out of the bottom\n",
      "you should be in good balance at the bottom of the squat with your weight balanced evenly over your feet neither on your heels nor forward on your toes balance problems usually indicate a back angle that is too vertical remember that the back angle will not be vertical at all sit back lean forward shove your knees out point your nipples at the floor allow your hips to perform the squat not your legs\n"
     ]
    }
   ],
   "source": [
    "text = \"When performing squats with a barbell, ensure your back is straight, knees do not extend beyond your toes, and the barbell rests securely on your shoulders.\"\n",
    "\n",
    "from nltk.corpus import wordnet as wn\n",
    "import nltk \n",
    "nltk.download('wordnet')\n",
    "part = wn.synsets('body_part')[0]\n",
    "\n",
    "def is_body_part(candidate):\n",
    "    for ss in wn.synsets(candidate):\n",
    "        # only get those where the synset matches exactly\n",
    "        name = ss.name().split(\".\", 1)[0]\n",
    "        if name != candidate:\n",
    "            continue\n",
    "        hit = part.lowest_common_hypernyms(ss)\n",
    "        if hit and hit[0] == part:\n",
    "            return True\n",
    "    return False\n",
    "\n",
    "# for word in sents[0]:\n",
    "#     print(is_body_part(word[0]), word[0], sep=\"\\t\")\n",
    "\n",
    "# Procesowanie każdego zdania\n",
    "# for sentence in sents:\n",
    "#     if any(is_body_part(t[0].lower()) for t in sentence):\n",
    "#         print(f\"Zdanie zawiera część ciała: {sentence}\")\n",
    "\n",
    "import nltk\n",
    "from nltk import CFG\n",
    "from nltk.tokenize import sent_tokenize, word_tokenize\n",
    "from nltk import pos_tag\n",
    "from nltk.parse import ChartParser\n",
    "\n",
    "# Lista części ciała\n",
    "body_parts = [\"head\", \"arm\", \"leg\", \"hand\", \"foot\", \"eye\", \"ear\", \"nose\", \"mouth\", \"shoulder\", \"knee\", \"elbow\"]\n",
    "\n",
    "# Definicja gramatyki bezkontekstowej z użyciem POS tags\n",
    "grammar = CFG.fromstring(\"\"\"\n",
    "  S -> NP VP\n",
    "  NP -> DT JJNN | JJNN\n",
    "  VP -> VBZ NP | VBZ ADJP | VBZ PP\n",
    "  DT -> 'the' | 'a' | 'his' | 'her'\n",
    "  JJNN -> JJ NN | JJNN JJ NN\n",
    "  JJ -> 'badly' | 'quickly' | 'slowly' | 'fast'\n",
    "  NN -> 'head' | 'arm' | 'leg' | 'hand' | 'foot' | 'eye' | 'ear' | 'nose' | 'mouth' | 'shoulder' | 'knee' | 'elbow'\n",
    "  VBZ -> VB\n",
    "  ADJP -> JJ NP\n",
    "  NP -> DT JJNN\n",
    "  PP -> IN NP\n",
    "  IN -> 'in'\n",
    "\"\"\")\n",
    "\n",
    "# Tworzenie parsera\n",
    "parser = ChartParser(grammar)\n",
    "\n",
    "# Tokenizacja tekstu na zdania\n",
    "for sentence in sents:\n",
    "    # Sprawdzanie czy zdanie pasuje do gramatyki\n",
    "    #print(sentence)\n",
    "    words = [word for word, tag in sentence]\n",
    "    try:\n",
    "        for tree in parser.parse(words):\n",
    "            # # Sprawdzanie czy pierwsza fraza rzeczownikowa jest częścią ciała\n",
    "            # np = tree[0]\n",
    "            # if np.label() == 'NP' and np[0][0].lower() in body_parts:\n",
    "            #     print(f\"Zdanie zawiera część ciała jako podmiot: {sentence}\")\n",
    "            tree.pretty_print()\n",
    "    except ValueError:\n",
    "            # Jeżeli parser nie znajdzie pasującego drzewa, przechodzi do następnego zdania\n",
    "        #print(\"nie ma drzewa\")    \n",
    "        continue\n",
    "import re \n",
    "\n",
    "#pattern = r'(head|arm|leg|hand|foot|eye|ear|nose|back|mouth|shoulder|knee|elbow)'\n",
    "pattern = r'\\b(head|arm|leg|hand|foot|eye|ear|nose|back|mouth|shoulder|knee|elbow)\\b\\s+(\\w+)'\n",
    "\n",
    "sents_for_regexp = nltk.sent_tokenize(result)\n",
    "sents_for_regexp = [(segment(sent)) for sent in sents_for_regexp]\n",
    "for sentence in sents_for_regexp:\n",
    "    #print(sentence)\n",
    "    sem = ' '.join([str(elem) for elem in sentence])\n",
    "    #print(sem)\n",
    "    match = re.search(pattern,sem)\n",
    "    if match:\n",
    "        print(sem)\n",
    "        #print(match.string)"
   ]
  },
  {
   "cell_type": "code",
   "execution_count": null,
   "metadata": {},
   "outputs": [],
   "source": [
    "for sent in sents:\n",
    "    for tuple in sent:\n",
    "        print(tuple[0],end = \" \")\n",
    "    print(\"\\n\")    "
   ]
  },
  {
   "cell_type": "markdown",
   "metadata": {},
   "source": [
    "### main loop of the program"
   ]
  },
  {
   "cell_type": "code",
   "execution_count": 31,
   "metadata": {},
   "outputs": [],
   "source": [
    "cap = cv2.VideoCapture(video_file)\n",
    "dq = collections.deque()\n",
    "cv2.namedWindow('Video with Subtitles', cv2.WINDOW_NORMAL)\n",
    "cv2.resizeWindow('Video with Subtitles', 800, 600)\n",
    "\n",
    "current_frame = 0 \n",
    "fps = cap.get(cv2.CAP_PROP_FPS)\n",
    "curr_sub_start = 0\n",
    "while True:\n",
    "    cap.set(cv2.CAP_PROP_POS_FRAMES, current_frame)\n",
    "    current_time = current_frame / fps\n",
    "\n",
    "    ret, frame = cap.read()\n",
    "\n",
    "    if not ret:\n",
    "        break\n",
    "\n",
    "\n",
    "    while(subtitles[curr_sub_start]['start']<current_time):\n",
    "        print(subtitles[curr_sub_start]['text'])\n",
    "        dq.append(curr_sub_start)\n",
    "        curr_sub_start=curr_sub_start+1\n",
    "    if(len(dq) >0):\n",
    "        while(subtitles[dq[0]]['start'] + subtitles[dq[0]]['duration']<current_time):\n",
    "            dq.popleft()\n",
    "    \n",
    "\n",
    "    gray_frame = cv2.cvtColor(frame, cv2.COLOR_BGR2GRAY)\n",
    "\n",
    "    edges = cv2.Canny(gray_frame, threshold1=100, threshold2=200)  \n",
    "\n",
    "    sub_index=0\n",
    "    for x in dq:\n",
    "        cv2.putText(frame, subtitles[x]['text'], (50, 50+50*sub_index), cv2.FONT_HERSHEY_SIMPLEX, 0.6, (255, 0, 0), 2, cv2.LINE_AA)\n",
    "        sub_index+=1\n",
    "\n",
    "\n",
    "    img = mp.Image(image_format=mp.ImageFormat.SRGB, data=frame)\n",
    "\n",
    "    detection_result = detector.detect(img)\n",
    "\n",
    "\n",
    "    annotated_image = draw_landmarks_on_image(img.numpy_view(), detection_result)\n",
    "    bgr_image = cv2.cvtColor(annotated_image, cv2.COLOR_RGB2BGR)\n",
    "\n",
    "    # Display the image using OpenCV\n",
    "    #cv2.imshow('Video with Subtitles', frame)\n",
    "    cv2.imshow('Video with Subtitles', bgr_image)\n",
    "    #cv2.imshow(cv2.cvtColor(annotated_image, cv2.COLOR_RGB2BGR))    # Wait for user input (right arrow key to go to the next frame)\n",
    "    key = cv2.waitKey(30)  # Adjust the delay as needed (milliseconds)\n",
    "    if key == 27:  # ESC key to exit\n",
    "        break\n",
    "    elif key == 83 or key == 100:\n",
    "        current_frame += 1\n",
    "cap.release()\n",
    "cv2.destroyAllWindows()\n"
   ]
  }
 ],
 "metadata": {
  "kernelspec": {
   "display_name": "Python 3",
   "language": "python",
   "name": "python3"
  },
  "language_info": {
   "codemirror_mode": {
    "name": "ipython",
    "version": 3
   },
   "file_extension": ".py",
   "mimetype": "text/x-python",
   "name": "python",
   "nbconvert_exporter": "python",
   "pygments_lexer": "ipython3",
   "version": "3.11.4"
  }
 },
 "nbformat": 4,
 "nbformat_minor": 2
}
