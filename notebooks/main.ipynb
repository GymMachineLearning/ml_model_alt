{
 "cells": [
  {
   "cell_type": "markdown",
   "metadata": {},
   "source": [
    "### All imports"
   ]
  },
  {
   "cell_type": "code",
   "execution_count": 3,
   "metadata": {},
   "outputs": [],
   "source": [
    "import cv2\n",
    "from youtube_transcript_api import YouTubeTranscriptApi\n",
    "from pytube import YouTube\n",
    "import collections\n",
    "import cv2\n",
    "\n",
    "\n",
    "from mediapipe import solutions\n",
    "from mediapipe.framework.formats import landmark_pb2\n",
    "import numpy as np\n",
    "\n",
    "import mediapipe as mp\n",
    "from mediapipe.tasks import python\n",
    "from mediapipe.tasks.python import vision\n"
   ]
  },
  {
   "cell_type": "markdown",
   "metadata": {},
   "source": [
    "### engine for pose estimation"
   ]
  },
  {
   "cell_type": "code",
   "execution_count": 4,
   "metadata": {},
   "outputs": [],
   "source": [
    "base_options = python.BaseOptions(model_asset_path='../models/pose_landmarker.task')\n",
    "options = vision.PoseLandmarkerOptions(\n",
    "    base_options=base_options,\n",
    "    output_segmentation_masks=True)\n",
    "\n",
    "detector = vision.PoseLandmarker.create_from_options(options)"
   ]
  },
  {
   "cell_type": "code",
   "execution_count": 5,
   "metadata": {},
   "outputs": [],
   "source": [
    "def draw_landmarks_on_image(rgb_image, detection_result):\n",
    "  pose_landmarks_list = detection_result.pose_landmarks\n",
    "  annotated_image = np.copy(rgb_image)\n",
    "\n",
    "  for idx in range(len(pose_landmarks_list)):\n",
    "    pose_landmarks = pose_landmarks_list[idx]\n",
    "\n",
    "\n",
    "    pose_landmarks_proto = landmark_pb2.NormalizedLandmarkList()\n",
    "    pose_landmarks_proto.landmark.extend([\n",
    "      landmark_pb2.NormalizedLandmark(x=landmark.x, y=landmark.y, z=landmark.z) for landmark in pose_landmarks\n",
    "    ])\n",
    "    solutions.drawing_utils.draw_landmarks(\n",
    "      annotated_image,\n",
    "      pose_landmarks_proto,\n",
    "      solutions.pose.POSE_CONNECTIONS,\n",
    "      solutions.drawing_styles.get_default_pose_landmarks_style())\n",
    "  return annotated_image\n"
   ]
  },
  {
   "cell_type": "code",
   "execution_count": 6,
   "metadata": {},
   "outputs": [
    {
     "name": "stdout",
     "output_type": "stream",
     "text": [
      "129\n"
     ]
    }
   ],
   "source": [
    "#xwyPjhRoeNc\n",
    "#nhoikoUEI8U\n",
    "video_id = \"nhoikoUEI8U\"\n",
    "subtitles = YouTubeTranscriptApi.get_transcript(video_id)\n",
    "print(len(subtitles))\n",
    "\n",
    "yt = YouTube(f\"https://www.youtube.com/watch?v={video_id}\")\n",
    "stream = yt.streams.filter(progressive=True, file_extension='mp4').order_by('resolution').desc().first()\n",
    "\n",
    "destination_path = \"../videos\" \n",
    "\n",
    "video_file = stream.download(output_path=destination_path)\n",
    "\n",
    "cap = cv2.VideoCapture(video_file)\n",
    "\n",
    "cv2.namedWindow('Video with Subtitles', cv2.WINDOW_NORMAL)\n",
    "cv2.resizeWindow('Video with Subtitles', 800, 600)\n",
    "\n",
    "current_frame = 0 \n",
    "fps = cap.get(cv2.CAP_PROP_FPS)\n",
    "curr_sub_start = 0\n",
    "\n",
    "\n",
    "dq = collections.deque()\n",
    "\n",
    "def cv2_to_mediapipe_image(cv2_image):\n",
    "    rgb_image = cv2.cvtColor(cv2_image, cv2.COLOR_BGR2RGB)\n",
    "    image = mp.solutions.mediapipe.python.solution_base.Image(\n",
    "        width=rgb_image.shape[1],\n",
    "        height=rgb_image.shape[0],\n",
    "        rgb_data=np.frombuffer(rgb_image.tobytes(), dtype=np.uint8)\n",
    "    )\n",
    "\n",
    "    return image"
   ]
  },
  {
   "cell_type": "markdown",
   "metadata": {},
   "source": [
    "### main loop of the program"
   ]
  },
  {
   "cell_type": "code",
   "execution_count": 7,
   "metadata": {},
   "outputs": [],
   "source": [
    "while True:\n",
    "    cap.set(cv2.CAP_PROP_POS_FRAMES, current_frame)\n",
    "    current_time = current_frame / fps\n",
    "\n",
    "    ret, frame = cap.read()\n",
    "\n",
    "    if not ret:\n",
    "        break\n",
    "\n",
    "\n",
    "    while(subtitles[curr_sub_start]['start']<current_time):\n",
    "        print(subtitles[curr_sub_start]['text'])\n",
    "        dq.append(curr_sub_start)\n",
    "        curr_sub_start=curr_sub_start+1\n",
    "    if(len(dq) >0):\n",
    "        while(subtitles[dq[0]]['start'] + subtitles[dq[0]]['duration']<current_time):\n",
    "            dq.popleft()\n",
    "    \n",
    "\n",
    "    gray_frame = cv2.cvtColor(frame, cv2.COLOR_BGR2GRAY)\n",
    "\n",
    "    edges = cv2.Canny(gray_frame, threshold1=100, threshold2=200)  \n",
    "\n",
    "    sub_index=0\n",
    "    for x in dq:\n",
    "        cv2.putText(frame, subtitles[x]['text'], (50, 50+50*sub_index), cv2.FONT_HERSHEY_SIMPLEX, 0.5, (255, 255, 255), 2, cv2.LINE_AA)\n",
    "        sub_index+=1\n",
    "\n",
    "\n",
    "    img = mp.Image(image_format=mp.ImageFormat.SRGB, data=frame)\n",
    "\n",
    "    detection_result = detector.detect(img)\n",
    "\n",
    "\n",
    "    annotated_image = draw_landmarks_on_image(img.numpy_view(), detection_result)\n",
    "    bgr_image = cv2.cvtColor(annotated_image, cv2.COLOR_RGB2BGR)\n",
    "\n",
    "    # Display the image using OpenCV\n",
    "    #cv2.imshow('Video with Subtitles', edges)\n",
    "    cv2.imshow('Video with Subtitles', bgr_image)\n",
    "    #cv2.imshow(cv2.cvtColor(annotated_image, cv2.COLOR_RGB2BGR))    # Wait for user input (right arrow key to go to the next frame)\n",
    "    key = cv2.waitKey(30)  # Adjust the delay as needed (milliseconds)\n",
    "    if key == 27:  # ESC key to exit\n",
    "        break\n",
    "    elif key == 83 or key == 100:  # Right arrow key or 'd' key to move to the next frame\n",
    "        current_frame += 1\n",
    "\n",
    "# Release resources\n",
    "cap.release()\n",
    "cv2.destroyAllWindows()\n"
   ]
  }
 ],
 "metadata": {
  "kernelspec": {
   "display_name": "Python 3",
   "language": "python",
   "name": "python3"
  },
  "language_info": {
   "codemirror_mode": {
    "name": "ipython",
    "version": 3
   },
   "file_extension": ".py",
   "mimetype": "text/x-python",
   "name": "python",
   "nbconvert_exporter": "python",
   "pygments_lexer": "ipython3",
   "version": "3.11.4"
  }
 },
 "nbformat": 4,
 "nbformat_minor": 2
}
