{
 "cells": [
  {
   "cell_type": "markdown",
   "metadata": {},
   "source": [
    "### All imports"
   ]
  },
  {
   "cell_type": "code",
   "execution_count": 1,
   "metadata": {},
   "outputs": [],
   "source": [
    "import cv2\n",
    "from youtube_transcript_api import YouTubeTranscriptApi\n",
    "from pytube import YouTube\n",
    "import collections\n",
    "import cv2\n",
    "\n",
    "\n",
    "from mediapipe import solutions\n",
    "from mediapipe.framework.formats import landmark_pb2\n",
    "import numpy as np\n",
    "\n",
    "import mediapipe as mp\n",
    "from mediapipe.tasks import python\n",
    "from mediapipe.tasks.python import vision\n",
    "\n",
    "import nltk  \n"
   ]
  },
  {
   "cell_type": "markdown",
   "metadata": {},
   "source": [
    "### engine for pose estimation"
   ]
  },
  {
   "cell_type": "code",
   "execution_count": 2,
   "metadata": {},
   "outputs": [],
   "source": [
    "base_options = python.BaseOptions(model_asset_path='../models/pose_landmarker.task')\n",
    "options = vision.PoseLandmarkerOptions(\n",
    "    base_options=base_options,\n",
    "    output_segmentation_masks=True)\n",
    "\n",
    "detector = vision.PoseLandmarker.create_from_options(options)"
   ]
  },
  {
   "cell_type": "code",
   "execution_count": 3,
   "metadata": {},
   "outputs": [],
   "source": [
    "def draw_landmarks_on_image(rgb_image, detection_result):\n",
    "  pose_landmarks_list = detection_result.pose_landmarks\n",
    "  annotated_image = np.copy(rgb_image)\n",
    "\n",
    "  for idx in range(len(pose_landmarks_list)):\n",
    "    pose_landmarks = pose_landmarks_list[idx]\n",
    "\n",
    "\n",
    "    pose_landmarks_proto = landmark_pb2.NormalizedLandmarkList()\n",
    "    pose_landmarks_proto.landmark.extend([\n",
    "      landmark_pb2.NormalizedLandmark(x=landmark.x, y=landmark.y, z=landmark.z) for landmark in pose_landmarks\n",
    "    ])\n",
    "    solutions.drawing_utils.draw_landmarks(\n",
    "      annotated_image,\n",
    "      pose_landmarks_proto,\n",
    "      solutions.pose.POSE_CONNECTIONS,\n",
    "      solutions.drawing_styles.get_default_pose_landmarks_style())\n",
    "  return annotated_image\n"
   ]
  },
  {
   "cell_type": "code",
   "execution_count": 4,
   "metadata": {},
   "outputs": [
    {
     "name": "stdout",
     "output_type": "stream",
     "text": [
      "129\n"
     ]
    }
   ],
   "source": [
    "#xwyPjhRoeNc\n",
    "#nhoikoUEI8U\n",
    "video_id = \"nhoikoUEI8U\"\n",
    "subtitles = YouTubeTranscriptApi.get_transcript(video_id)\n",
    "print(len(subtitles))\n",
    "\n",
    "yt = YouTube(f\"https://www.youtube.com/watch?v={video_id}\")\n",
    "stream = yt.streams.filter(progressive=True, file_extension='mp4').order_by('resolution').desc().first()\n",
    "\n",
    "destination_path = \"../videos\" \n",
    "\n",
    "video_file = stream.download(output_path=destination_path)\n",
    "\n",
    "\n",
    "\n",
    "\n",
    "dq = collections.deque()\n",
    "\n",
    "def cv2_to_mediapipe_image(cv2_image):\n",
    "    rgb_image = cv2.cvtColor(cv2_image, cv2.COLOR_BGR2RGB)\n",
    "    image = mp.solutions.mediapipe.python.solution_base.Image(\n",
    "        width=rgb_image.shape[1],\n",
    "        height=rgb_image.shape[0],\n",
    "        rgb_data=np.frombuffer(rgb_image.tobytes(), dtype=np.uint8)\n",
    "    )\n",
    "\n",
    "    return image"
   ]
  },
  {
   "cell_type": "markdown",
   "metadata": {},
   "source": [
    "### divide text into sentences"
   ]
  },
  {
   "cell_type": "code",
   "execution_count": 5,
   "metadata": {},
   "outputs": [
    {
     "name": "stdout",
     "output_type": "stream",
     "text": [
      "4705\n",
      "we will approach the squat in two phasesfirst unloaded to solve problemsassociated with the bottom position andthen loaded to learn how to apply thebottom position to the hip drive usedfor heavier weights since the majorityof the problems with the squat happenedat the bottom this method expedites theprocess quite effectively we will use afairly neutral foot placement with theheels about shoulder width apart and thetoes pointed out at about 30 degreesmany people will assume a stance withtoes pointed too forward so you may needto point them out more than you want tonext you're going to assume the positionyou will be in at the bottom of a squatwithout the barsquat down all the way to a position inwhich the apex of the hip crease dropsjust below the top of the patella putyour elbows against your knees with thepalms of your hands together and shoveyour knees out notice your feet are flaton the floor your knees are shoved outto where they are in a parallel linewith your feet and just a little infront of your toes your back should beas flat as you can get it also noticethat your back is inclined at about a 45degree angle not at all vertical andyour eyes are looking down at the floora few feet in front of you after you'veestablished the bottom position come upout of the bottom by driving your buttstraight up in the air up not forwardnot back this movement keeps your weightsolidly over the whole foot instead ofletting it shift to the toes think abouta chain hook to your hips pulling youstraight up out of the bottom set therack height so that the bar is at aboutthe level of your mid sternum take aneven grip on the bar measured from themarkings placed on the bar for thispurpose a standard power bar has 16 to17 inches between the ends of the insideneural and 32 inches between the fingermarks grip width for the squat will varywith shoulder width and flexibility butin general the hands will be betweenthese two markings with the narrowestgrip you can manage a narrower gripallows a flexible person to bettersupport the bar with the posteriormuscles of the shoulders and a widergrip allows an inflexible person to getmore comfortable under the bar thethumbs should be placed on top of thebar so that the wrists can be held in astraight line with the forearms theelbows should be lifted up to trap thebar between the hands and the backelbows should be up but not high withyour grip in place and your hands andthumbs on top of the bar dip your headunder the bar and come up into positionwith the bar on your back just below thespine of the scapula the bone you feelat the top of the shoulder blades andthen secure it in place by lifting yourelbows and chest at the same time itshould feel as though the bar is restingon a shelf under the traps and on top ofthe posterior deltoids take the bar outof the rack in the same position inwhich it is to be squatted with thetorso and shoulders tight the chest andelbows up the head position down andboth feet under the bar step back justenough to clear the rack and assume thesame stance you used earlier again heelsshould be about shoulder width apartwith toes pointed out about 30 degreesat this point you are ready to squatwith the empty bar everything you'reabout to do is the same as you didunweighted only two things are differentone you don't have your elbows availableto help push your knees out so you needto do this with your brain and two don'tstop at the bottom just go down andimmediately come back up driving yourbutt straight up not forward not backout of the bottom now look down at aspot on the floor about four to fivefeet in front of you take a big breathand hold it and squat you should be ingood balance at the bottom of the squatwith your weight balanced evenly overyour feetneither on your heels nor forward onyour toesbalance problems usually indicate a backangle that is too verticalremember that the back angle will not bevertical at allsit back lean forward shove your kneesout point your nipples at the floorallow your hips to perform the squat notyour legs do not accept anything lessthan full depth ever if you are high itis usually because your knees are notout most people who have problems withthe squat do not shove their knees outenough do a set of five and rack the barwalk forward until the bar touches thevertical parts of the rack find theuprights not the hooks you can't missthe uprights and if you touch themyou'll be over the hooks the generalplan is to do a couple more sets of 5reps with the empty bar to nail down themovement pattern and then add weight doanother set of 5 and keep increasing ineven increments until the next increasewould compromise your form and that isthe first squat workout[Music]\n"
     ]
    },
    {
     "name": "stderr",
     "output_type": "stream",
     "text": [
      "C:\\Users\\Damian\\AppData\\Local\\Packages\\PythonSoftwareFoundation.Python.3.11_qbz5n2kfra8p0\\LocalCache\\local-packages\\Python311\\site-packages\\tqdm\\auto.py:21: TqdmWarning: IProgress not found. Please update jupyter and ipywidgets. See https://ipywidgets.readthedocs.io/en/stable/user_install.html\n",
      "  from .autonotebook import tqdm as notebook_tqdm\n"
     ]
    },
    {
     "name": "stdout",
     "output_type": "stream",
     "text": [
      "WARNING:tensorflow:From C:\\Users\\Damian\\AppData\\Local\\Packages\\PythonSoftwareFoundation.Python.3.11_qbz5n2kfra8p0\\LocalCache\\local-packages\\Python311\\site-packages\\tf_keras\\src\\losses.py:2976: The name tf.losses.sparse_softmax_cross_entropy is deprecated. Please use tf.compat.v1.losses.sparse_softmax_cross_entropy instead.\n",
      "\n"
     ]
    },
    {
     "name": "stderr",
     "output_type": "stream",
     "text": [
      "C:\\Users\\Damian\\AppData\\Local\\Packages\\PythonSoftwareFoundation.Python.3.11_qbz5n2kfra8p0\\LocalCache\\local-packages\\Python311\\site-packages\\transformers\\pipelines\\token_classification.py:168: UserWarning: `grouped_entities` is deprecated and will be removed in version v5.0.0, defaulted to `aggregation_strategy=\"AggregationStrategy.NONE\"` instead.\n",
      "  warnings.warn(\n"
     ]
    },
    {
     "name": "stdout",
     "output_type": "stream",
     "text": [
      "4790\n",
      "p\n"
     ]
    }
   ],
   "source": [
    "\n",
    "text =''\n",
    "for obj in subtitles:\n",
    "    text+=obj['text']\n",
    "\n",
    "print(len(text))\n",
    "print(text)\n",
    "\n",
    "\n",
    "from deepmultilingualpunctuation import PunctuationModel\n",
    "model = PunctuationModel()\n",
    "\n",
    "result = model.restore_punctuation(text)\n",
    "print(len(result))\n",
    "\n"
   ]
  },
  {
   "cell_type": "code",
   "execution_count": 17,
   "metadata": {},
   "outputs": [
    {
     "name": "stdout",
     "output_type": "stream",
     "text": [
      "your knees are shoved outto where they are in a parallel linewith your feet and just a little infront of your toes.\n"
     ]
    }
   ],
   "source": [
    "#print(result)\n",
    "sents = nltk.sent_tokenize(result)\n",
    "print(sents[6])"
   ]
  },
  {
   "cell_type": "markdown",
   "metadata": {},
   "source": [
    "### main loop of the program"
   ]
  },
  {
   "cell_type": "code",
   "execution_count": 7,
   "metadata": {},
   "outputs": [],
   "source": [
    "cap = cv2.VideoCapture(video_file)\n",
    "\n",
    "cv2.namedWindow('Video with Subtitles', cv2.WINDOW_NORMAL)\n",
    "cv2.resizeWindow('Video with Subtitles', 800, 600)\n",
    "\n",
    "current_frame = 0 \n",
    "fps = cap.get(cv2.CAP_PROP_FPS)\n",
    "curr_sub_start = 0\n",
    "while True:\n",
    "    cap.set(cv2.CAP_PROP_POS_FRAMES, current_frame)\n",
    "    current_time = current_frame / fps\n",
    "\n",
    "    ret, frame = cap.read()\n",
    "\n",
    "    if not ret:\n",
    "        break\n",
    "\n",
    "\n",
    "    while(subtitles[curr_sub_start]['start']<current_time):\n",
    "        print(subtitles[curr_sub_start]['text'])\n",
    "        dq.append(curr_sub_start)\n",
    "        curr_sub_start=curr_sub_start+1\n",
    "    if(len(dq) >0):\n",
    "        while(subtitles[dq[0]]['start'] + subtitles[dq[0]]['duration']<current_time):\n",
    "            dq.popleft()\n",
    "    \n",
    "\n",
    "    gray_frame = cv2.cvtColor(frame, cv2.COLOR_BGR2GRAY)\n",
    "\n",
    "    edges = cv2.Canny(gray_frame, threshold1=100, threshold2=200)  \n",
    "\n",
    "    sub_index=0\n",
    "    for x in dq:\n",
    "        cv2.putText(frame, subtitles[x]['text'], (50, 50+50*sub_index), cv2.FONT_HERSHEY_SIMPLEX, 0.5, (255, 255, 255), 2, cv2.LINE_AA)\n",
    "        sub_index+=1\n",
    "\n",
    "\n",
    "    img = mp.Image(image_format=mp.ImageFormat.SRGB, data=frame)\n",
    "\n",
    "    detection_result = detector.detect(img)\n",
    "\n",
    "\n",
    "    annotated_image = draw_landmarks_on_image(img.numpy_view(), detection_result)\n",
    "    bgr_image = cv2.cvtColor(annotated_image, cv2.COLOR_RGB2BGR)\n",
    "\n",
    "    # Display the image using OpenCV\n",
    "    #cv2.imshow('Video with Subtitles', edges)\n",
    "    cv2.imshow('Video with Subtitles', bgr_image)\n",
    "    #cv2.imshow(cv2.cvtColor(annotated_image, cv2.COLOR_RGB2BGR))    # Wait for user input (right arrow key to go to the next frame)\n",
    "    key = cv2.waitKey(30)  # Adjust the delay as needed (milliseconds)\n",
    "    if key == 27:  # ESC key to exit\n",
    "        break\n",
    "    elif key == 83 or key == 100:  # Right arrow key or 'd' key to move to the next frame\n",
    "        current_frame += 1\n",
    "\n",
    "# Release resources\n",
    "cap.release()\n",
    "cv2.destroyAllWindows()\n"
   ]
  }
 ],
 "metadata": {
  "kernelspec": {
   "display_name": "Python 3",
   "language": "python",
   "name": "python3"
  },
  "language_info": {
   "codemirror_mode": {
    "name": "ipython",
    "version": 3
   },
   "file_extension": ".py",
   "mimetype": "text/x-python",
   "name": "python",
   "nbconvert_exporter": "python",
   "pygments_lexer": "ipython3",
   "version": "3.11.4"
  }
 },
 "nbformat": 4,
 "nbformat_minor": 2
}
